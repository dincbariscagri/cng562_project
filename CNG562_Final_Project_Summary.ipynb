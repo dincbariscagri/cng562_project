{
  "nbformat": 4,
  "nbformat_minor": 0,
  "metadata": {
    "colab": {
      "name": "CNG562_Final_Project_Summary.ipynb",
      "version": "0.3.2",
      "provenance": [],
      "include_colab_link": true
    },
    "language_info": {
      "codemirror_mode": {
        "name": "ipython",
        "version": 3
      },
      "file_extension": ".py",
      "mimetype": "text/x-python",
      "name": "python",
      "nbconvert_exporter": "python",
      "pygments_lexer": "ipython3",
      "version": "3.6.8"
    },
    "kernelspec": {
      "display_name": "Python 3",
      "language": "python",
      "name": "python3"
    }
  },
  "cells": [
    {
      "cell_type": "markdown",
      "metadata": {
        "id": "view-in-github",
        "colab_type": "text"
      },
      "source": [
        "<a href=\"https://colab.research.google.com/github/dincbariscagri/cng562_project/blob/master/CNG562_Final_Project_Summary.ipynb\" target=\"_parent\"><img src=\"https://colab.research.google.com/assets/colab-badge.svg\" alt=\"Open In Colab\"/></a>"
      ]
    },
    {
      "cell_type": "markdown",
      "metadata": {
        "id": "mpTE0BH1ZDxv",
        "colab_type": "text"
      },
      "source": [
        "# CNG 562 Final Project Summary\n",
        "\n",
        "\n",
        "## Participants (Ordered by Surname)\n",
        "\n",
        "1. Barış Çağrı, Dinç, 2396893\n",
        "2. Yücel, Çakır,\n",
        "3. Akın, Gülpınar,\n"
      ]
    },
    {
      "cell_type": "markdown",
      "metadata": {
        "id": "jQ1MrwJfZDxw",
        "colab_type": "text"
      },
      "source": [
        "## Problem Description\n",
        "\n",
        "Purpose of this project is detecing landmarks based on images provided by Google. Images have popular landmarks and non landmark pictures. This project can help people better understand and organize their photo collections, get instant info based on that landmark etc. This is a Kaggle competition. "
      ]
    },
    {
      "cell_type": "markdown",
      "metadata": {
        "id": "5jf-HaGeZDxx",
        "colab_type": "text"
      },
      "source": [
        "## Data Description\n",
        "\n",
        "The test images are listed in test.csv, while train.csv contains a large number of images labeled with their associated landmarks. Test images may depict no landmark, one landmark, or more than one landmark. The training set images are each associated to exactly one landmark: each image has a unique id (a hash) and each landmark has a unique label (an integer).\n",
        "\n",
        "There are 4,132,914 images in the train set. It consists near 500 GB of mixed images.\n",
        "\n",
        "There are 761,757 images in the index set. Which is used to map images to ID's.\n",
        "\n",
        "\n",
        "To work easily, "
      ]
    },
    {
      "cell_type": "markdown",
      "metadata": {
        "id": "Bn6nax2cZDxy",
        "colab_type": "text"
      },
      "source": [
        "## Solution Description\n",
        "\n",
        "Comment on your work here.\n",
        "\n"
      ]
    },
    {
      "cell_type": "markdown",
      "metadata": {
        "id": "WiMt8GSbZDx0",
        "colab_type": "text"
      },
      "source": [
        "## Project Results\n",
        "\n",
        "Describe the results you have obtained.\n",
        "\n",
        "If you are able to submit your work to Kaggle, please state your position in the competition.\n"
      ]
    },
    {
      "cell_type": "markdown",
      "metadata": {
        "id": "CROPi-UBZDx1",
        "colab_type": "text"
      },
      "source": [
        "## Further Comments on your work\n",
        "\n",
        "If necessary, please add further information on your work on the final project."
      ]
    },
    {
      "cell_type": "code",
      "metadata": {
        "id": "1X_JIPuUZDx2",
        "colab_type": "code",
        "colab": {}
      },
      "source": [
        ""
      ],
      "execution_count": 0,
      "outputs": []
    },
    {
      "cell_type": "code",
      "metadata": {
        "id": "AwHkzUi0ZDx5",
        "colab_type": "code",
        "colab": {}
      },
      "source": [
        ""
      ],
      "execution_count": 0,
      "outputs": []
    }
  ]
}